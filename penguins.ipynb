{
 "cells": [
  {
   "cell_type": "markdown",
   "metadata": {},
   "source": [
    "# Palmer Penguins Data Analysis\n",
    "\n",
    "\n",
    "\n",
    "\n"
   ]
  },
  {
   "cell_type": "markdown",
   "metadata": {},
   "source": [
    "---"
   ]
  },
  {
   "cell_type": "markdown",
   "metadata": {},
   "source": [
    "### 'Palmer Penguins' dataset background\n",
    "\n",
    "The data of the 'Palmer Penguins' dataset was collected from 2007 and 2009 and made available by [Dr Kristen Gorman](https://www.uaf.edu/cfos/people/faculty/detail/kristen-gorman.php) with the [Palmer Station, Antartica](https://www.nsf.gov/geo/opp/support/palmerst.jsp) which is part of the [US Long Term Ecological Research Network](https://lternet.edu/), \n",
    "Contained in the dataset is data relating to 344 penguins of 3 different species. This data was collected from 3 islands in Palmer Archipelago Antarctica.\n",
    "([Source: Kaggle.com](https://www.kaggle.com/code/florianspire/palmer-penguins-data-preprocessing-and-analysis)),\n",
    "([Source: Allison Horst,Alison Hill,Kristen Gorman via github](https://allisonhorst.github.io/palmerpenguins/articles/intro.html)).\n",
    "\n",
    "The purpose of the data collection was to study the Antarctic penguins' foraging behavior and its relationship with variables in the environment. The findings were originally listed as three separate data sets - One of each species of penguin . They were then combined to one single data set which is what I will be exploring and analysing in this Jupyter notebook.([Source: UC Irvine Machine Learning Repository](https://archive.ics.uci.edu/dataset/690/palmer+penguins-3))\n",
    "\n",
    "\n",
    "\n",
    "\n",
    "---"
   ]
  },
  {
   "cell_type": "markdown",
   "metadata": {},
   "source": [
    "### Import Libraries\n",
    "\n"
   ]
  },
  {
   "cell_type": "code",
   "execution_count": 87,
   "metadata": {},
   "outputs": [],
   "source": [
    "import pandas as pd \n",
    "\n",
    "import numpy as np\n",
    "\n",
    "import matplotlib.pyplot as plt\n",
    "\n",
    "import seaborn as sns\n"
   ]
  },
  {
   "cell_type": "markdown",
   "metadata": {},
   "source": [
    "___"
   ]
  },
  {
   "cell_type": "markdown",
   "metadata": {},
   "source": [
    "### Load and open the 'Palmer Penguins' data set "
   ]
  },
  {
   "cell_type": "code",
   "execution_count": 88,
   "metadata": {},
   "outputs": [],
   "source": [
    "# Load the 'Palmer Penguins' dataset.\n",
    "df = pd.read_csv(\"https://raw.githubusercontent.com/mwaskom/seaborn-data/master/penguins.csv\")"
   ]
  },
  {
   "cell_type": "code",
   "execution_count": 89,
   "metadata": {},
   "outputs": [
    {
     "data": {
      "text/html": [
       "<div>\n",
       "<style scoped>\n",
       "    .dataframe tbody tr th:only-of-type {\n",
       "        vertical-align: middle;\n",
       "    }\n",
       "\n",
       "    .dataframe tbody tr th {\n",
       "        vertical-align: top;\n",
       "    }\n",
       "\n",
       "    .dataframe thead th {\n",
       "        text-align: right;\n",
       "    }\n",
       "</style>\n",
       "<table border=\"1\" class=\"dataframe\">\n",
       "  <thead>\n",
       "    <tr style=\"text-align: right;\">\n",
       "      <th></th>\n",
       "      <th>species</th>\n",
       "      <th>island</th>\n",
       "      <th>bill_length_mm</th>\n",
       "      <th>bill_depth_mm</th>\n",
       "      <th>flipper_length_mm</th>\n",
       "      <th>body_mass_g</th>\n",
       "      <th>sex</th>\n",
       "    </tr>\n",
       "  </thead>\n",
       "  <tbody>\n",
       "    <tr>\n",
       "      <th>0</th>\n",
       "      <td>Adelie</td>\n",
       "      <td>Torgersen</td>\n",
       "      <td>39.1</td>\n",
       "      <td>18.7</td>\n",
       "      <td>181.0</td>\n",
       "      <td>3750.0</td>\n",
       "      <td>MALE</td>\n",
       "    </tr>\n",
       "    <tr>\n",
       "      <th>1</th>\n",
       "      <td>Adelie</td>\n",
       "      <td>Torgersen</td>\n",
       "      <td>39.5</td>\n",
       "      <td>17.4</td>\n",
       "      <td>186.0</td>\n",
       "      <td>3800.0</td>\n",
       "      <td>FEMALE</td>\n",
       "    </tr>\n",
       "    <tr>\n",
       "      <th>2</th>\n",
       "      <td>Adelie</td>\n",
       "      <td>Torgersen</td>\n",
       "      <td>40.3</td>\n",
       "      <td>18.0</td>\n",
       "      <td>195.0</td>\n",
       "      <td>3250.0</td>\n",
       "      <td>FEMALE</td>\n",
       "    </tr>\n",
       "    <tr>\n",
       "      <th>3</th>\n",
       "      <td>Adelie</td>\n",
       "      <td>Torgersen</td>\n",
       "      <td>NaN</td>\n",
       "      <td>NaN</td>\n",
       "      <td>NaN</td>\n",
       "      <td>NaN</td>\n",
       "      <td>NaN</td>\n",
       "    </tr>\n",
       "    <tr>\n",
       "      <th>4</th>\n",
       "      <td>Adelie</td>\n",
       "      <td>Torgersen</td>\n",
       "      <td>36.7</td>\n",
       "      <td>19.3</td>\n",
       "      <td>193.0</td>\n",
       "      <td>3450.0</td>\n",
       "      <td>FEMALE</td>\n",
       "    </tr>\n",
       "    <tr>\n",
       "      <th>...</th>\n",
       "      <td>...</td>\n",
       "      <td>...</td>\n",
       "      <td>...</td>\n",
       "      <td>...</td>\n",
       "      <td>...</td>\n",
       "      <td>...</td>\n",
       "      <td>...</td>\n",
       "    </tr>\n",
       "    <tr>\n",
       "      <th>339</th>\n",
       "      <td>Gentoo</td>\n",
       "      <td>Biscoe</td>\n",
       "      <td>NaN</td>\n",
       "      <td>NaN</td>\n",
       "      <td>NaN</td>\n",
       "      <td>NaN</td>\n",
       "      <td>NaN</td>\n",
       "    </tr>\n",
       "    <tr>\n",
       "      <th>340</th>\n",
       "      <td>Gentoo</td>\n",
       "      <td>Biscoe</td>\n",
       "      <td>46.8</td>\n",
       "      <td>14.3</td>\n",
       "      <td>215.0</td>\n",
       "      <td>4850.0</td>\n",
       "      <td>FEMALE</td>\n",
       "    </tr>\n",
       "    <tr>\n",
       "      <th>341</th>\n",
       "      <td>Gentoo</td>\n",
       "      <td>Biscoe</td>\n",
       "      <td>50.4</td>\n",
       "      <td>15.7</td>\n",
       "      <td>222.0</td>\n",
       "      <td>5750.0</td>\n",
       "      <td>MALE</td>\n",
       "    </tr>\n",
       "    <tr>\n",
       "      <th>342</th>\n",
       "      <td>Gentoo</td>\n",
       "      <td>Biscoe</td>\n",
       "      <td>45.2</td>\n",
       "      <td>14.8</td>\n",
       "      <td>212.0</td>\n",
       "      <td>5200.0</td>\n",
       "      <td>FEMALE</td>\n",
       "    </tr>\n",
       "    <tr>\n",
       "      <th>343</th>\n",
       "      <td>Gentoo</td>\n",
       "      <td>Biscoe</td>\n",
       "      <td>49.9</td>\n",
       "      <td>16.1</td>\n",
       "      <td>213.0</td>\n",
       "      <td>5400.0</td>\n",
       "      <td>MALE</td>\n",
       "    </tr>\n",
       "  </tbody>\n",
       "</table>\n",
       "<p>344 rows × 7 columns</p>\n",
       "</div>"
      ],
      "text/plain": [
       "    species     island  bill_length_mm  bill_depth_mm  flipper_length_mm  \\\n",
       "0    Adelie  Torgersen            39.1           18.7              181.0   \n",
       "1    Adelie  Torgersen            39.5           17.4              186.0   \n",
       "2    Adelie  Torgersen            40.3           18.0              195.0   \n",
       "3    Adelie  Torgersen             NaN            NaN                NaN   \n",
       "4    Adelie  Torgersen            36.7           19.3              193.0   \n",
       "..      ...        ...             ...            ...                ...   \n",
       "339  Gentoo     Biscoe             NaN            NaN                NaN   \n",
       "340  Gentoo     Biscoe            46.8           14.3              215.0   \n",
       "341  Gentoo     Biscoe            50.4           15.7              222.0   \n",
       "342  Gentoo     Biscoe            45.2           14.8              212.0   \n",
       "343  Gentoo     Biscoe            49.9           16.1              213.0   \n",
       "\n",
       "     body_mass_g     sex  \n",
       "0         3750.0    MALE  \n",
       "1         3800.0  FEMALE  \n",
       "2         3250.0  FEMALE  \n",
       "3            NaN     NaN  \n",
       "4         3450.0  FEMALE  \n",
       "..           ...     ...  \n",
       "339          NaN     NaN  \n",
       "340       4850.0  FEMALE  \n",
       "341       5750.0    MALE  \n",
       "342       5200.0  FEMALE  \n",
       "343       5400.0    MALE  \n",
       "\n",
       "[344 rows x 7 columns]"
      ]
     },
     "execution_count": 89,
     "metadata": {},
     "output_type": "execute_result"
    }
   ],
   "source": [
    "#Open the 'Palmer Penguins' dataset.\n",
    "df"
   ]
  },
  {
   "cell_type": "code",
   "execution_count": 90,
   "metadata": {},
   "outputs": [
    {
     "data": {
      "text/html": [
       "<div>\n",
       "<style scoped>\n",
       "    .dataframe tbody tr th:only-of-type {\n",
       "        vertical-align: middle;\n",
       "    }\n",
       "\n",
       "    .dataframe tbody tr th {\n",
       "        vertical-align: top;\n",
       "    }\n",
       "\n",
       "    .dataframe thead th {\n",
       "        text-align: right;\n",
       "    }\n",
       "</style>\n",
       "<table border=\"1\" class=\"dataframe\">\n",
       "  <thead>\n",
       "    <tr style=\"text-align: right;\">\n",
       "      <th></th>\n",
       "      <th>species</th>\n",
       "      <th>island</th>\n",
       "      <th>bill_length_mm</th>\n",
       "      <th>bill_depth_mm</th>\n",
       "      <th>flipper_length_mm</th>\n",
       "      <th>body_mass_g</th>\n",
       "      <th>sex</th>\n",
       "    </tr>\n",
       "  </thead>\n",
       "  <tbody>\n",
       "    <tr>\n",
       "      <th>count</th>\n",
       "      <td>344</td>\n",
       "      <td>344</td>\n",
       "      <td>342.000000</td>\n",
       "      <td>342.000000</td>\n",
       "      <td>342.000000</td>\n",
       "      <td>342.000000</td>\n",
       "      <td>333</td>\n",
       "    </tr>\n",
       "    <tr>\n",
       "      <th>unique</th>\n",
       "      <td>3</td>\n",
       "      <td>3</td>\n",
       "      <td>NaN</td>\n",
       "      <td>NaN</td>\n",
       "      <td>NaN</td>\n",
       "      <td>NaN</td>\n",
       "      <td>2</td>\n",
       "    </tr>\n",
       "    <tr>\n",
       "      <th>top</th>\n",
       "      <td>Adelie</td>\n",
       "      <td>Biscoe</td>\n",
       "      <td>NaN</td>\n",
       "      <td>NaN</td>\n",
       "      <td>NaN</td>\n",
       "      <td>NaN</td>\n",
       "      <td>MALE</td>\n",
       "    </tr>\n",
       "    <tr>\n",
       "      <th>freq</th>\n",
       "      <td>152</td>\n",
       "      <td>168</td>\n",
       "      <td>NaN</td>\n",
       "      <td>NaN</td>\n",
       "      <td>NaN</td>\n",
       "      <td>NaN</td>\n",
       "      <td>168</td>\n",
       "    </tr>\n",
       "    <tr>\n",
       "      <th>mean</th>\n",
       "      <td>NaN</td>\n",
       "      <td>NaN</td>\n",
       "      <td>43.921930</td>\n",
       "      <td>17.151170</td>\n",
       "      <td>200.915205</td>\n",
       "      <td>4201.754386</td>\n",
       "      <td>NaN</td>\n",
       "    </tr>\n",
       "    <tr>\n",
       "      <th>std</th>\n",
       "      <td>NaN</td>\n",
       "      <td>NaN</td>\n",
       "      <td>5.459584</td>\n",
       "      <td>1.974793</td>\n",
       "      <td>14.061714</td>\n",
       "      <td>801.954536</td>\n",
       "      <td>NaN</td>\n",
       "    </tr>\n",
       "    <tr>\n",
       "      <th>min</th>\n",
       "      <td>NaN</td>\n",
       "      <td>NaN</td>\n",
       "      <td>32.100000</td>\n",
       "      <td>13.100000</td>\n",
       "      <td>172.000000</td>\n",
       "      <td>2700.000000</td>\n",
       "      <td>NaN</td>\n",
       "    </tr>\n",
       "    <tr>\n",
       "      <th>25%</th>\n",
       "      <td>NaN</td>\n",
       "      <td>NaN</td>\n",
       "      <td>39.225000</td>\n",
       "      <td>15.600000</td>\n",
       "      <td>190.000000</td>\n",
       "      <td>3550.000000</td>\n",
       "      <td>NaN</td>\n",
       "    </tr>\n",
       "    <tr>\n",
       "      <th>50%</th>\n",
       "      <td>NaN</td>\n",
       "      <td>NaN</td>\n",
       "      <td>44.450000</td>\n",
       "      <td>17.300000</td>\n",
       "      <td>197.000000</td>\n",
       "      <td>4050.000000</td>\n",
       "      <td>NaN</td>\n",
       "    </tr>\n",
       "    <tr>\n",
       "      <th>75%</th>\n",
       "      <td>NaN</td>\n",
       "      <td>NaN</td>\n",
       "      <td>48.500000</td>\n",
       "      <td>18.700000</td>\n",
       "      <td>213.000000</td>\n",
       "      <td>4750.000000</td>\n",
       "      <td>NaN</td>\n",
       "    </tr>\n",
       "    <tr>\n",
       "      <th>max</th>\n",
       "      <td>NaN</td>\n",
       "      <td>NaN</td>\n",
       "      <td>59.600000</td>\n",
       "      <td>21.500000</td>\n",
       "      <td>231.000000</td>\n",
       "      <td>6300.000000</td>\n",
       "      <td>NaN</td>\n",
       "    </tr>\n",
       "  </tbody>\n",
       "</table>\n",
       "</div>"
      ],
      "text/plain": [
       "       species  island  bill_length_mm  bill_depth_mm  flipper_length_mm  \\\n",
       "count      344     344      342.000000     342.000000         342.000000   \n",
       "unique       3       3             NaN            NaN                NaN   \n",
       "top     Adelie  Biscoe             NaN            NaN                NaN   \n",
       "freq       152     168             NaN            NaN                NaN   \n",
       "mean       NaN     NaN       43.921930      17.151170         200.915205   \n",
       "std        NaN     NaN        5.459584       1.974793          14.061714   \n",
       "min        NaN     NaN       32.100000      13.100000         172.000000   \n",
       "25%        NaN     NaN       39.225000      15.600000         190.000000   \n",
       "50%        NaN     NaN       44.450000      17.300000         197.000000   \n",
       "75%        NaN     NaN       48.500000      18.700000         213.000000   \n",
       "max        NaN     NaN       59.600000      21.500000         231.000000   \n",
       "\n",
       "        body_mass_g   sex  \n",
       "count    342.000000   333  \n",
       "unique          NaN     2  \n",
       "top             NaN  MALE  \n",
       "freq            NaN   168  \n",
       "mean    4201.754386   NaN  \n",
       "std      801.954536   NaN  \n",
       "min     2700.000000   NaN  \n",
       "25%     3550.000000   NaN  \n",
       "50%     4050.000000   NaN  \n",
       "75%     4750.000000   NaN  \n",
       "max     6300.000000   NaN  "
      ]
     },
     "execution_count": 90,
     "metadata": {},
     "output_type": "execute_result"
    }
   ],
   "source": [
    "# Describe the data set\n",
    "df.describe(include='all')"
   ]
  },
  {
   "cell_type": "markdown",
   "metadata": {},
   "source": [
    "\n",
    "\n",
    "In the previous two cells I have opened the data set.\n",
    "Here we can see that there are several variables in our data set:\n",
    "- Island \n",
    "- Species \n",
    "- Bill length\n",
    "- Bill depth\n",
    "- Flipper length\n",
    "- Body mass\n",
    "- Sex.\n",
    "\n",
    "---"
   ]
  },
  {
   "cell_type": "markdown",
   "metadata": {},
   "source": [
    "### Overview of the 'Palmer Penguin' data set \n",
    "\n",
    "In the previous cell I have used the 'describe()' method from pandas to return a summary of the data set.\n",
    "\n",
    "\n",
    "- **count:** This description shows us the number of non-empty values for each column. We can see that the columns 'species' and 'island' have a count of 344.<br />\n",
    "Columns 'bill_length_mm', 'bill_depth_mm, 'flipper_length_mm' and 'body_mass_g' have count of 342. <br />\n",
    "Column 'sex' has a count of 333.<br />\n",
    "As there are 344 penguins observed in this data set it appears that columns 'bill_length_mm', 'bill_depth_mm, 'flipper_length_mm' and 'body_mass_g' are missing 2 values each<br />\n",
    "while column 'sex' is missing 1 value and columns 'species' and 'island' are missing no values.\n",
    "<br /><br />\n",
    "\n",
    "- **unique:** This description is only applicable here to the non numeric fields. <br />\n",
    "It indicates the number of unique values in each row. <br />\n",
    "'Species' and 'Island' both have 3 unique values while 'sex' has 2.\n",
    "<br /><br />\n",
    "\n",
    "- **top:** This description is only applicable here to the non numeric fields and shows the most frequent value in each column.<br />\n",
    "We can see that 'Adelie' are the most frequent 'species' in the data set while 'Biscoe' is the most frequent 'island' and 'MALE' is the most frequent 'sex'\n",
    "<br /><br />\n",
    "\n",
    "- **freq:** This description tells us the frequency of the 'top' value. <br />\n",
    "We can see 152 'Adelie' species penguins were observed. While 168 of the overall observations were made on the island of 'Biscoe' and of the 344 penguins 168 of them were identified as 'MALE'.\n",
    "<br /><br />\n",
    "\n",
    "\n",
    "\n",
    "- **mean:** This description is only applicable to the numeric columns. <br />\n",
    "The 'mean' gives us the average value for each column.<br />\n",
    "We can see the average 'bill_length_mm' is '43.921930'mm.<br />\n",
    "The average bill_depth_mm is '17.151170'mm. <br />\n",
    "The average flipper_length_mm is '200.915205'mm <br />\n",
    "and the average 'body_mass_g'is '4201.754386'g <br />\n",
    "<br /><br />\n",
    "\n",
    "- **std** This description is only applicable to the numeric columns. <br />\n",
    "'Std' gives us the standard deviation of each numeric column.<br />\n",
    "This number tells us how much variation from the mean there is for this column.<br />\n",
    "The standard deviation of 'bill_length_mm' is '5.459584' <br />\n",
    "The standard deviation of bill_depth_mm is '1.974793' <br />\n",
    "The standard deviation of flipper_length_mm is '14.061714'<br />\n",
    "and the average 'body_mass_g'is '801.954536' <br />\n",
    "<br /><br />\n",
    "\n",
    "\n",
    "- **min** This description is only applicable to the numeric columns. <br />\n",
    "'Min' gives us the minimum value for each variable.<br />\n",
    "We can see that the minimum value for 'bill_length_mm' is '32.100000'mm <br />\n",
    "The minimum value for bill_depth_mm is '13.100000'mm <br />\n",
    "The minimum value for flipper_length_mm is '172.000000'mm<br />\n",
    "and the minimum value for 'body_mass_g'is '2700.000000'g <br />\n",
    "<br /><br />\n",
    "\n",
    "- **25%** This description is only applicable to the numeric columns. <br />\n",
    "'25%' gives us the 25% percentile or first quartile of each column\n",
    "We can see that 25% of the results for 'bill_length_mm' are below'39.225000'mm <br />\n",
    "25% of the results for 'bill_depth_mm' are below '15.600000'mm <br />\n",
    "25% of the results for 'flipper_length_mm' are below '190.000000'mm<br />\n",
    "25% of the results for 'body_mass_g' are below '3550.000000'g <br />\n",
    "<br /><br />\n",
    "\n",
    "- **50%** This description is only applicable to the numeric columns. <br />\n",
    "'50%' gives us the 50% percentile or the median for each value.<br />\n",
    "Here we can say that '44.450000'mm is the median of 'bill_length_mm' or that 50% of the values for 'bill_length_mm' are less than '44.450000'mm.<br />\n",
    "The median of 'bill_depth_mm' is'17.300000'mm <br />\n",
    "The median of  'flipper_length_mm' is '197.000000'mm<br />\n",
    "The median of'body_mass_g' is '4050.000000'g <br />\n",
    "<br /><br />\n",
    "\n",
    "\n",
    "- **75%** This description is only applicable to the numeric columns. <br />\n",
    "'75%' gives us the 75% percentile or third quartile of each column\n",
    "We can see that 75% of the results for 'bill_length_mm' are below '48.500000'mm <br />\n",
    "75% of the results for 'bill_depth_mm' are below '18.700000'mm <br />\n",
    "75% of the results for 'flipper_length_mm' are below'213.000000'mm<br />\n",
    "75% of the results for 'body_mass_g' are below '4750.000000'g <br />\n",
    "<br /><br />\n",
    "\n",
    "\n",
    "\n",
    "\n",
    "- **max** This description is only applicable to the numeric columns. <br />\n",
    "'Max' gives us the maximum value for each variable.<br />\n",
    "We can see that the maximum value for 'bill_length_mm' is '59.600000'mm <br />\n",
    "The maximum  value for bill_depth_mm is '21.500000'mm <br />\n",
    "The maximum  value for flipper_length_mm is '231.000000'mm<br />\n",
    "and the maximum  value for 'body_mass_g'is '6300.000000'g <br /><br />\n",
    "\n",
    "([Source:w3schools](https://www.w3schools.com/datascience/ds_stat_percentiles.asp))<br />\n",
    "([Source:w3resource.](https://www.w3resource.com/pandas/dataframe/dataframe-describe.php))<br />\n",
    "([Source:w3schools](https://www.w3schools.com/python/pandas/ref_df_describe.asp))<br />\n",
    "([Source:wikipedia](https://en.wikipedia.org/wiki/Quartile))<br />\n",
    "([Source:wikipedia](https://en.wikipedia.org/wiki/Standard_deviation))<br />\n",
    "\n",
    "\n",
    "\n"
   ]
  },
  {
   "cell_type": "markdown",
   "metadata": {},
   "source": [
    "---"
   ]
  },
  {
   "cell_type": "markdown",
   "metadata": {},
   "source": [
    "### Variables in the Palmer Penguins Data Set"
   ]
  },
  {
   "cell_type": "code",
   "execution_count": 91,
   "metadata": {},
   "outputs": [
    {
     "name": "stdout",
     "output_type": "stream",
     "text": [
      "species               object\n",
      "island                object\n",
      "bill_length_mm       float64\n",
      "bill_depth_mm        float64\n",
      "flipper_length_mm    float64\n",
      "body_mass_g          float64\n",
      "sex                   object\n",
      "dtype: object\n"
     ]
    }
   ],
   "source": [
    "# Get python variable types\n",
    "variable_types = df.dtypes\n",
    "\n",
    "# Print variable types\n",
    "print(variable_types)"
   ]
  },
  {
   "cell_type": "markdown",
   "metadata": {},
   "source": [
    "([Source:stackoverflow](https://stackoverflow.com/questions/51817742/how-could-i-detect-subtypes-in-pandas-object-columns))<br />"
   ]
  },
  {
   "cell_type": "code",
   "execution_count": 92,
   "metadata": {},
   "outputs": [
    {
     "name": "stdout",
     "output_type": "stream",
     "text": [
      "[<class 'str'>]\n"
     ]
    }
   ],
   "source": [
    "# Get Variable types of column 'species'\n",
    "\n",
    "# Identify the column with the variable type 'object'\n",
    "object_column = df['species']\n",
    "#Get the variable type of each element in the column\n",
    "variable_types = object_column.apply(type)\n",
    "#Get the unique variable types\n",
    "unique_variable_types = variable_types.unique()\n",
    "\n",
    "print(unique_variable_types)"
   ]
  },
  {
   "cell_type": "code",
   "execution_count": 93,
   "metadata": {},
   "outputs": [
    {
     "name": "stdout",
     "output_type": "stream",
     "text": [
      "[<class 'str'>]\n"
     ]
    }
   ],
   "source": [
    "# Get Variable types of column 'island'\n",
    "\n",
    "# Identify the column with the variable type 'object'\n",
    "object_column = df['island']\n",
    "#Get the variable type of each element in the column\n",
    "variable_types = object_column.apply(type)\n",
    "#Get the unique variable types\n",
    "unique_variable_types = variable_types.unique()\n",
    "\n",
    "print(unique_variable_types)"
   ]
  },
  {
   "cell_type": "code",
   "execution_count": 94,
   "metadata": {},
   "outputs": [
    {
     "name": "stdout",
     "output_type": "stream",
     "text": [
      "[<class 'str'> <class 'float'>]\n"
     ]
    }
   ],
   "source": [
    "# Get Variable types of column 'sex'\n",
    "\n",
    "# Identify the column with the variable type 'object'\n",
    "object_column = df['sex']\n",
    "#Get the variable type of each element in the column\n",
    "variable_types = object_column.apply(type)\n",
    "#Get the unique variable types\n",
    "unique_variable_types = variable_types.unique()\n",
    "\n",
    "print(unique_variable_types)"
   ]
  },
  {
   "cell_type": "markdown",
   "metadata": {},
   "source": [
    "Note: The code to get the variable types of each object column was written with the assistance of chat GPT"
   ]
  },
  {
   "cell_type": "code",
   "execution_count": 95,
   "metadata": {},
   "outputs": [
    {
     "name": "stdout",
     "output_type": "stream",
     "text": [
      "['MALE' 'FEMALE' nan]\n"
     ]
    }
   ],
   "source": [
    "\n",
    "\n",
    "# Check unique values in the \"sex\" column to understand why 'float' is a variable type\n",
    "unique_sex_values = df['sex'].unique()\n",
    "\n",
    "# Print unique values\n",
    "print(unique_sex_values)\n",
    "\n",
    "# The value 'nan' has been used to represent missing data. This is why 'float' is returning as a variable type.\n"
   ]
  },
  {
   "cell_type": "markdown",
   "metadata": {},
   "source": [
    "([Source:geeksforgeeks.org](https://www.geeksforgeeks.org/get-unique-values-from-a-column-in-pandas-dataframe/))<br />"
   ]
  },
  {
   "cell_type": "markdown",
   "metadata": {},
   "source": [
    "### Variables types in the Palmer Penguins data set - Python Perspective\n",
    "\n",
    "In the above cells I have used Pandas commands to investigate the variable types in the context of Python. <br /><br />\n",
    "\n",
    "**Float Variables**<br />\n",
    "These variable types are comprised of floating point numbers.<br />\n",
    "- bill_length_mm\n",
    "- bill_depth_mm \n",
    "- flipper_length_mm\n",
    "- body_mass_g <br /><br />\n",
    "\n",
    "\n",
    "**String Variables**<br />\n",
    "These variable types are made up of a collection or 'string' of characters.<br />\n",
    "- species\n",
    "- island\n",
    "<br /><br />\n",
    "\n",
    "**Variables that contain string and float values**\n",
    "\n",
    "- sex<br /><br />\n",
    "\n",
    "In the context of modeling the data in this set I will treat the variable 'sex' as a string as the 'float' categorisation comes from a singular missing value which we may remove or replace later in the data analysis when we clean up the data.<br /><br />\n",
    "\n",
    "\n",
    "([w3schools](https://www.w3schools.com/go/go_float_data_type.php#:~:text=The%20float%20data%20types%20are,%2C%20%2D2.34%2C%20or%203597.34987.))<br />\n",
    " ([programiz.com](https://www.programiz.com/python-programming/string#google_vignette))<br />\n"
   ]
  },
  {
   "cell_type": "markdown",
   "metadata": {},
   "source": [
    "***"
   ]
  },
  {
   "cell_type": "markdown",
   "metadata": {},
   "source": [
    "### Variables types in the Palmer Penguins data set - Data Analytics Perspective\n",
    "\n",
    "From a data analysis theory point of view the variables in the Palmer Penguins data set can be categorised into two main types.<br />\n",
    "'Numerical' (Also known as Quantitative) and 'Categorical' (also known as Qualitive).<br /><br />\n",
    "\n",
    "**Numerical Variables**\n",
    "Are numerical and represent amounts. <br />\n",
    "The numerical variables in our data set are\n",
    "- bill_length_mm\n",
    "- ill_depth_mm \n",
    "- flipper_length_mm\n",
    "- body_mass_g \n",
    "<br /><br />\n",
    "\n",
    "**Numerical Variables** can be categorised as either **'Continuous'** or **'Discrete'**.<br /><br />\n",
    " \n",
    "**'Continuous' variables** contain values that are numbers which can have a decimal place.<br />\n",
    "A variable can be said to be continuous if it 'can assume an infinite number of real values within a given interval'([(Source:statcan](https://www150.statcan.gc.ca/n1/edu/power-pouvoir/ch8/5214817-eng.htm))<br />\n",
    "For example: The 'Bill length' of the penguins surveyed in this data set are a minimum length of 32.100000mm and a  maximum length of 59.600000mm <br />\n",
    "Between these values the number of possible bill lengths is infinite.<br /><br />\n",
    "\n",
    "**'Discrete' variables** must be whole integer values.<br />\n",
    "Discrete variables contain values which are  'distinct, countable values'([Source:outlier](https://articles.outlier.org/discrete-vs-continuous-variables#section-what-is-a-discrete-variable))<br />\n",
    "For example: If this data set had a variable for 'Number of Penguins' it would be categorised as a discrete variable as the amount of penguins must be distinct,countable and cannot be a decimal value. <br /><br />\n",
    "\n",
    "In this data set all of our quantitative variables are continuous.<br /><br />\n",
    "\n",
    "**Categorical Variables**\n",
    "Are variables that represent groupings or categories and refer to characteristics that cannot be quantified.<br />\n",
    "The Categorical Variables in this data set are\n",
    "- Island \n",
    "- Species \n",
    "- Sex.\n",
    "<br /><br />\n",
    "\n",
    "**Categorical Variables** can be 'Ordinal', 'Nominal' or 'Binary'.<br />\n",
    "'Ordinal' variables have values which can be defined or ranked by an order.<br />\n",
    "For example: a survey may have the possible responses of 'bad','good' or 'very good'. 'Very good' will rank above 'good' which will in turn rank ahead of 'bad'<br /><br />\n",
    "**'Nominal' variables** contain values that do not have a natural order <br />\n",
    "For example: the variable 'species' in our data set. Adelie,Biscoe and Gentoo have no natural order or rank.<br /> \n",
    "**'Binary variables** are variables that contain only 2 possible outcomes<br />\n",
    "For example in the context of this specific data set the variable 'sex' could be modeled as a binary variable as 'male' and 'female' are the only two possible outcomes.<br />\n",
    "However it could also be modeled as a nominal category as it contains groupings with no natural order.<br /><br />\n",
    "\n",
    "The remaining categorical variables 'Island' and 'Species' are nominal variables.<br /><br />\n",
    "\n",
    "\n",
    "([Source:codecademy](https://www.codecademy.com/learn/dsf-exploratory-data-analysis-python/modules/dsf-variable-types-for-data-science/cheatsheet))<br />\n",
    "([Source:statcan](https://www150.statcan.gc.ca/n1/edu/power-pouvoir/ch8/5214817-eng.htm))<br />\n",
    "([Source:outlier](https://articles.outlier.org/discrete-vs-continuous-variables#section-what-is-a-discrete-variable))<br />\n",
    "([Source:PennState Eberly College of Science](https://online.stat.psu.edu/stat500/lesson/3/3.2/3.2.2#:~:text=A%20binary%20variable%20is%20a,of%20a%20binary%20categorical%20variable.))<br />\n"
   ]
  },
  {
   "cell_type": "markdown",
   "metadata": {},
   "source": [
    "### Variable Types in Summary <br />\n",
    "Based on my above analysis of the variable types in relation to the variables in this data set i would suggest categorising each variable as so: <br />\n",
    "\n",
    "\n",
    "\n",
    "| Variable | Python Variable type| Data Analytics Variable type |\n",
    "|:-------------|:--------------:|--------------:|\n",
    "| Species    |    String  |       Categorical ,Nominal|\n",
    "| Island     |    String   |       Categorical ,Nominal    |\n",
    "| bill_length_mm    |    Float  |       Numerical ,Continuous   |\n",
    "| bill_depth_mm      |     Float  |       Numerical ,Continuous   |\n",
    "| flipper_length_mm      |    Float  |       Numerical ,Continuous   |\n",
    "| body_mass_g     |       Float  |       Numerical ,Continuous  |\n",
    "| sex     |    String  |       Categorical,Binary  ,Nominal|"
   ]
  },
  {
   "cell_type": "markdown",
   "metadata": {},
   "source": [
    "***"
   ]
  },
  {
   "cell_type": "markdown",
   "metadata": {},
   "source": [
    "### 'Island' Variable visualised as a bar chart"
   ]
  },
  {
   "cell_type": "code",
   "execution_count": 96,
   "metadata": {},
   "outputs": [],
   "source": [
    "#Get the value counts for 'Island'\n",
    "island_count=df['island'].value_counts()"
   ]
  },
  {
   "cell_type": "code",
   "execution_count": 97,
   "metadata": {},
   "outputs": [
    {
     "data": {
      "text/plain": [
       "Text(0, 0.5, 'Count of Penguins')"
      ]
     },
     "execution_count": 97,
     "metadata": {},
     "output_type": "execute_result"
    },
    {
     "data": {
      "image/png": "[encoded data removed]",
      "text/plain": [
       "<Figure size 640x480 with 1 Axes>"
      ]
     },
     "metadata": {},
     "output_type": "display_data"
    }
   ],
   "source": [
    "#Plotting the bar chart for the amount of penguins on each island.\n",
    "\n",
    "\n",
    "plt.bar(island_count.index, island_count.values, color='blue')\n",
    "plt.title('Number of Penguins on Each Island')\n",
    "plt.xlabel('Island')\n",
    "plt.ylabel('Count of Penguins')\n"
   ]
  },
  {
   "cell_type": "markdown",
   "metadata": {},
   "source": [
    "From this barchart we can visualise the amount of penguins per island.<br/>\n",
    "Here we can see that the majority of observations were made on the island of Biscoe <br/>\n",
    "While less than 60 were made on the island of Torgersen"
   ]
  },
  {
   "cell_type": "markdown",
   "metadata": {},
   "source": [
    "---"
   ]
  },
  {
   "cell_type": "markdown",
   "metadata": {},
   "source": [
    "### 'Flipper' variable visualised as a histogram"
   ]
  },
  {
   "cell_type": "code",
   "execution_count": 98,
   "metadata": {},
   "outputs": [],
   "source": [
    "#Get the value counts for 'Flipper Length (mm)'\n",
    "island_count=df['flipper_length_mm'].value_counts()"
   ]
  },
  {
   "cell_type": "code",
   "execution_count": 117,
   "metadata": {},
   "outputs": [
    {
     "data": {
      "image/png": "[encoded data removed]",
      "text/plain": [
       "<Figure size 640x480 with 1 Axes>"
      ]
     },
     "metadata": {},
     "output_type": "display_data"
    }
   ],
   "source": [
    "# Plot a histogram for the distribution of Bill length.\n",
    "plt.hist(df['bill_length_mm'], bins=10, color='blue', edgecolor='black')\n",
    "plt.title('Distribution of Bill Length')\n",
    "plt.xlabel('Bill Length (mm)')\n",
    "plt.ylabel('Count of Penguins')\n",
    "plt.show()\n"
   ]
  },
  {
   "cell_type": "markdown",
   "metadata": {},
   "source": [
    "From this histogram we can observe the distribution of bill lengths among the penguins.<br/>\n",
    "We can observe that the majority of penguins have a bill lenth beetween 35mm and just over 50mm <br/>\n",
    "With a small number of outliers either side."
   ]
  },
  {
   "cell_type": "markdown",
   "metadata": {},
   "source": [
    "***"
   ]
  },
  {
   "cell_type": "markdown",
   "metadata": {},
   "source": [
    "### Correlation between two variables."
   ]
  },
  {
   "cell_type": "markdown",
   "metadata": {},
   "source": [
    "To provide an analysis is of two of the variables in the Palmers Penguins data set first I will investigate the correlation between all numeric variables<br/>\n",
    "Before I calculate the correlation I will look at the quality of the data and what is missing. <br/><br/>\n",
    "\n",
    "First lets find what columns are missing data:"
   ]
  },
  {
   "cell_type": "code",
   "execution_count": null,
   "metadata": {},
   "outputs": [
    {
     "name": "stdout",
     "output_type": "stream",
     "text": [
      "species               0\n",
      "island                0\n",
      "bill_length_mm        2\n",
      "bill_depth_mm         2\n",
      "flipper_length_mm     2\n",
      "body_mass_g           2\n",
      "sex                  11\n",
      "dtype: int64\n"
     ]
    }
   ],
   "source": [
    "# Check for missing values\n",
    "missing_values = df.isna().sum()\n",
    "\n",
    "# Display the count of missing values for each column\n",
    "print(missing_values)"
   ]
  },
  {
   "cell_type": "markdown",
   "metadata": {},
   "source": [
    "([Source:cmdlinetips.com](https://cmdlinetips.com/2020/11/how-to-get-number-of-missing-values-in-each-column-in-pandas/))"
   ]
  },
  {
   "cell_type": "markdown",
   "metadata": {},
   "source": [
    "As we can see 5 of our columns are missing values.<br/>\n",
    "I will focus on the numeric fields for the purpose of correlation.<br/>\n",
    "bill_length, bill_depth_mm, flipper_lenth_mm and body_mass_g are all missing two values each.<br/>\n",
    "I have three options here <br/>\n",
    "I Could replace the two missing values of each column by using mean or median imputation,<br/>\n",
    "I could drop the missing values<br/>\n",
    "or i could leave the null values in the data set .<br/>\n",
    "As the missing values represent less than 2% of all observations in each column it will have little impact on the correlations using these variables.<br/>\n",
    "See below the correlation matrix of the cleaned data frame and the origional data frame.<br/>\n",
    "\n",
    "\n",
    "([Source:tEugenio \"Jay\" Zuccarelli](https://towardsdatascience.com/the-dos-and-donts-of-imputation-d89d72a26a58))"
   ]
  },
  {
   "cell_type": "code",
   "execution_count": null,
   "metadata": {},
   "outputs": [],
   "source": [
    "#Remove 'NaN' values from the data set \n",
    "\n",
    "df_cleaned = df.dropna()"
   ]
  },
  {
   "cell_type": "markdown",
   "metadata": {},
   "source": [
    "\n",
    "([Source: w3schools](https://www.w3schools.com/python/pandas/ref_df_dropna.asp))"
   ]
  },
  {
   "cell_type": "markdown",
   "metadata": {},
   "source": [
    "### Cleaned data frame correlation matrix:"
   ]
  },
  {
   "cell_type": "code",
   "execution_count": null,
   "metadata": {},
   "outputs": [
    {
     "data": {
      "text/html": [
       "<div>\n",
       "<style scoped>\n",
       "    .dataframe tbody tr th:only-of-type {\n",
       "        vertical-align: middle;\n",
       "    }\n",
       "\n",
       "    .dataframe tbody tr th {\n",
       "        vertical-align: top;\n",
       "    }\n",
       "\n",
       "    .dataframe thead th {\n",
       "        text-align: right;\n",
       "    }\n",
       "</style>\n",
       "<table border=\"1\" class=\"dataframe\">\n",
       "  <thead>\n",
       "    <tr style=\"text-align: right;\">\n",
       "      <th></th>\n",
       "      <th>bill_length_mm</th>\n",
       "      <th>bill_depth_mm</th>\n",
       "      <th>flipper_length_mm</th>\n",
       "      <th>body_mass_g</th>\n",
       "    </tr>\n",
       "  </thead>\n",
       "  <tbody>\n",
       "    <tr>\n",
       "      <th>bill_length_mm</th>\n",
       "      <td>1.000000</td>\n",
       "      <td>-0.228626</td>\n",
       "      <td>0.653096</td>\n",
       "      <td>0.589451</td>\n",
       "    </tr>\n",
       "    <tr>\n",
       "      <th>bill_depth_mm</th>\n",
       "      <td>-0.228626</td>\n",
       "      <td>1.000000</td>\n",
       "      <td>-0.577792</td>\n",
       "      <td>-0.472016</td>\n",
       "    </tr>\n",
       "    <tr>\n",
       "      <th>flipper_length_mm</th>\n",
       "      <td>0.653096</td>\n",
       "      <td>-0.577792</td>\n",
       "      <td>1.000000</td>\n",
       "      <td>0.872979</td>\n",
       "    </tr>\n",
       "    <tr>\n",
       "      <th>body_mass_g</th>\n",
       "      <td>0.589451</td>\n",
       "      <td>-0.472016</td>\n",
       "      <td>0.872979</td>\n",
       "      <td>1.000000</td>\n",
       "    </tr>\n",
       "  </tbody>\n",
       "</table>\n",
       "</div>"
      ],
      "text/plain": [
       "                   bill_length_mm  bill_depth_mm  flipper_length_mm  \\\n",
       "bill_length_mm           1.000000      -0.228626           0.653096   \n",
       "bill_depth_mm           -0.228626       1.000000          -0.577792   \n",
       "flipper_length_mm        0.653096      -0.577792           1.000000   \n",
       "body_mass_g              0.589451      -0.472016           0.872979   \n",
       "\n",
       "                   body_mass_g  \n",
       "bill_length_mm        0.589451  \n",
       "bill_depth_mm        -0.472016  \n",
       "flipper_length_mm     0.872979  \n",
       "body_mass_g           1.000000  "
      ]
     },
     "execution_count": 69,
     "metadata": {},
     "output_type": "execute_result"
    }
   ],
   "source": [
    "\n",
    "#Create a data frame from the cleaned data set of just the numeric columns.\n",
    "numeric_df_cleaned = df_cleaned.select_dtypes(include='number')\n",
    "\n",
    "# Calculate correlation matrix\n",
    "correlation_matrix_cleaned = numeric_df_cleaned.corr()\n",
    "\n",
    "#Show the correlation matrix\n",
    "(correlation_matrix_cleaned)"
   ]
  },
  {
   "cell_type": "markdown",
   "metadata": {},
   "source": [
    "---"
   ]
  },
  {
   "cell_type": "markdown",
   "metadata": {},
   "source": [
    "###  Original data frame correlation matrix:"
   ]
  },
  {
   "cell_type": "code",
   "execution_count": null,
   "metadata": {},
   "outputs": [
    {
     "data": {
      "text/html": [
       "<div>\n",
       "<style scoped>\n",
       "    .dataframe tbody tr th:only-of-type {\n",
       "        vertical-align: middle;\n",
       "    }\n",
       "\n",
       "    .dataframe tbody tr th {\n",
       "        vertical-align: top;\n",
       "    }\n",
       "\n",
       "    .dataframe thead th {\n",
       "        text-align: right;\n",
       "    }\n",
       "</style>\n",
       "<table border=\"1\" class=\"dataframe\">\n",
       "  <thead>\n",
       "    <tr style=\"text-align: right;\">\n",
       "      <th></th>\n",
       "      <th>bill_length_mm</th>\n",
       "      <th>bill_depth_mm</th>\n",
       "      <th>flipper_length_mm</th>\n",
       "      <th>body_mass_g</th>\n",
       "    </tr>\n",
       "  </thead>\n",
       "  <tbody>\n",
       "    <tr>\n",
       "      <th>bill_length_mm</th>\n",
       "      <td>1.000000</td>\n",
       "      <td>-0.235053</td>\n",
       "      <td>0.656181</td>\n",
       "      <td>0.595110</td>\n",
       "    </tr>\n",
       "    <tr>\n",
       "      <th>bill_depth_mm</th>\n",
       "      <td>-0.235053</td>\n",
       "      <td>1.000000</td>\n",
       "      <td>-0.583851</td>\n",
       "      <td>-0.471916</td>\n",
       "    </tr>\n",
       "    <tr>\n",
       "      <th>flipper_length_mm</th>\n",
       "      <td>0.656181</td>\n",
       "      <td>-0.583851</td>\n",
       "      <td>1.000000</td>\n",
       "      <td>0.871202</td>\n",
       "    </tr>\n",
       "    <tr>\n",
       "      <th>body_mass_g</th>\n",
       "      <td>0.595110</td>\n",
       "      <td>-0.471916</td>\n",
       "      <td>0.871202</td>\n",
       "      <td>1.000000</td>\n",
       "    </tr>\n",
       "  </tbody>\n",
       "</table>\n",
       "</div>"
      ],
      "text/plain": [
       "                   bill_length_mm  bill_depth_mm  flipper_length_mm  \\\n",
       "bill_length_mm           1.000000      -0.235053           0.656181   \n",
       "bill_depth_mm           -0.235053       1.000000          -0.583851   \n",
       "flipper_length_mm        0.656181      -0.583851           1.000000   \n",
       "body_mass_g              0.595110      -0.471916           0.871202   \n",
       "\n",
       "                   body_mass_g  \n",
       "bill_length_mm        0.595110  \n",
       "bill_depth_mm        -0.471916  \n",
       "flipper_length_mm     0.871202  \n",
       "body_mass_g           1.000000  "
      ]
     },
     "execution_count": 70,
     "metadata": {},
     "output_type": "execute_result"
    }
   ],
   "source": [
    "\n",
    "#Create a data frame from the cleaned data set of just the numeric columns.\n",
    "numeric_df = df.select_dtypes(include='number')\n",
    "\n",
    "# Calculate correlation matrix\n",
    "correlation_matrix = numeric_df.corr()\n",
    "\n",
    "#Show the correlation matrix\n",
    "(correlation_matrix)"
   ]
  },
  {
   "cell_type": "markdown",
   "metadata": {},
   "source": [
    "([Source: statology.org](https://www.statology.org/correlation-in-python/))<br/>\n",
    "([Source:geeksforgeeks.org](https://www.geeksforgeeks.org/how-to-create-a-correlation-matrix-using-pandas/))<br/>"
   ]
  },
  {
   "cell_type": "markdown",
   "metadata": {},
   "source": [
    "---"
   ]
  },
  {
   "cell_type": "markdown",
   "metadata": {},
   "source": [
    "I will continue on with the analysis based on the original data frame. <br/>\n",
    "Below I have visualised the numeric variables and the correlations as a heatmap. <br/>"
   ]
  },
  {
   "cell_type": "code",
   "execution_count": null,
   "metadata": {},
   "outputs": [
    {
     "data": {
      "image/png": "[encoded data removed]",
      "text/plain": [
       "<Figure size 1000x800 with 2 Axes>"
      ]
     },
     "metadata": {},
     "output_type": "display_data"
    }
   ],
   "source": [
    "\n",
    "plt.figure(figsize=(10, 8))\n",
    "sns.heatmap(correlation_matrix, annot=True, cmap='coolwarm', fmt=\".2f\")\n",
    "plt.title('Correlation Matrix of Palmer Penguins Dataset')\n",
    "plt.show()"
   ]
  },
  {
   "cell_type": "markdown",
   "metadata": {},
   "source": [
    "([Source:Joleen Bothma/datacamp.com ](https://www.datacamp.com/tutorial/seaborn-heatmaps))<br/>\n",
    "([Source:Bibor Szabo ](https://medium.com/@szabo.bibor/how-to-create-a-seaborn-correlation-heatmap-in-python-834c0686b88e))<br/>"
   ]
  },
  {
   "cell_type": "markdown",
   "metadata": {},
   "source": [
    "We can see from the above martix and heatmap that flipper length and body mass are the highest correlated set of variables.<br/>\n",
    "While bill depth and flipper length are the least correlated set of variables.<br/><br/>\n",
    "As flipper length and body mass are the most correlated of the variables I will chose these to dive further into. <br/>\n",
    "I will visualise the correlation of these two variables with a scatter plot. "
   ]
  },
  {
   "cell_type": "code",
   "execution_count": null,
   "metadata": {},
   "outputs": [
    {
     "data": {
      "image/png": "[encoded data removed]",
      "text/plain": [
       "<Figure size 800x600 with 1 Axes>"
      ]
     },
     "metadata": {},
     "output_type": "display_data"
    }
   ],
   "source": [
    "#Set the variables for the scatter plot\n",
    "x_variable = 'body_mass_g'\n",
    "y_variable = 'flipper_length_mm'\n",
    "\n",
    "# Create the scatter plot\n",
    "plt.figure(figsize=(8, 6))\n",
    "plt.scatter(df[x_variable], df[y_variable])\n",
    "plt.xlabel(x_variable)\n",
    "plt.ylabel(y_variable)\n",
    "\n",
    "#Get m (slope) and b(intercept) of the linear regression line\n",
    "m, b = np.polyfit(df[x_variable], df[y_variable], 1)\n",
    "\n",
    "#Add the linear regression line to the scatter plot\n",
    "plt.plot(df[x_variable], m*df[x_variable]+b,color='red')\n",
    "\n",
    "#Show graph\n",
    "plt.show()"
   ]
  },
  {
   "cell_type": "markdown",
   "metadata": {},
   "source": [
    "With a correlation coefficient of 1 being a perfect positive correlation we can observe that with a correlation coeffecient of 0.871202 the variables flipper_length_mm and body_mass_g have a positive relationship. <br/>\n",
    "We can clearly see this highlighted in the scatter plot. The data trends upward from left to right in a linier fashion.<br/>\n",
    "This tell us that as body mass increases so does flipper length.<br/>\n",
    "Although it is important to remember that positive correlation does not imply causation, in the case of these specific variables it does make sense that a penguin with longer flippers would have a heavier body mass and visa versa. <br/>\n",
    "\n",
    "([Source:Statistics By Jim](https://statisticsbyjim.com/basics/correlations/#:~:text=Correlation%20Coefficient%20%3D%200.8%3A%20A%20fairly,change%20in%20a%20specific%20direction.))<br/>"
   ]
  },
  {
   "cell_type": "markdown",
   "metadata": {},
   "source": [
    "([Source:machinelearningplus.com ](https://www.machinelearningplus.com/plots/python-scatter-plot/))<br/>\n",
    "([Source:statology.org ](https://www.statology.org/scatterplot-with-regression-line-python/))<br/>"
   ]
  }
 ],
 "metadata": {
  "kernelspec": {
   "display_name": "base",
   "language": "python",
   "name": "python3"
  },
  "language_info": {
   "codemirror_mode": {
    "name": "ipython",
    "version": 3
   },
   "file_extension": ".py",
   "mimetype": "text/x-python",
   "name": "python",
   "nbconvert_exporter": "python",
   "pygments_lexer": "ipython3",
   "version": "3.11.5"
  }
 },
 "nbformat": 4,
 "nbformat_minor": 2
}
