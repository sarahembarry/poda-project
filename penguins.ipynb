{
 "cells": [
  {
   "cell_type": "markdown",
   "metadata": {},
   "source": [
    "# Palmer Penguins Data Analysis\n",
    "\n",
    "\n",
    "\n",
    "\n"
   ]
  },
  {
   "cell_type": "markdown",
   "metadata": {},
   "source": [
    "---"
   ]
  },
  {
   "cell_type": "markdown",
   "metadata": {},
   "source": [
    "### Palmer Penguins Dataset Background\n",
    "\n",
    "The 'Palmer Penguins' dataset, collected between 2007 and 2009, was made available by [Dr. Kristen Gorman](https://www.uaf.edu/cfos/people/faculty/detail/kristen-gorman.php) from the [Palmer Station](https://www.nsf.gov/geo/opp/support/palmerst.jsp) in Antarctica, part of the [US Long Term Ecological Research Network](https://lternet.edu/). It contains data on 344 penguins of three different species, gathered from three islands in the Palmer Archipelago.\n",
    "\n",
    "The purpose of collecting this data was to study the foraging behavior of Antarctic penguins and its correlation with environmental variables. Originally, the findings were presented as three separate datasets, one for each species of penguin. These datasets were later combined into a single dataset, which will be explored and analysed in this Jupyter notebook.\n",
    "\n",
    "**Sources:**\n",
    "\n",
    "- [Kaggle.com- About the Palmer Penguins dataset](https://www.kaggle.com/code/florianspire/palmer-penguins-data-preprocessing-and-analysis)\n",
    "- [Allison Host-About the Palmer Penguins dataset](https://allisonhorst.github.io/palmerpenguins/articles/intro.html)\n",
    "- [UC Irvine Machine Learning Repository- About the Palmer Penguins dataset](https://archive.ics.uci.edu/dataset/690/palmer+penguins-3)\n",
    "\n",
    "\n",
    "\n",
    "\n",
    "\n",
    "---"
   ]
  },
  {
   "cell_type": "markdown",
   "metadata": {},
   "source": [
    "### Import Libraries\n",
    "\n"
   ]
  },
  {
   "cell_type": "code",
   "execution_count": 44,
   "metadata": {},
   "outputs": [],
   "source": [
    "import pandas as pd \n",
    "\n",
    "import numpy as np\n",
    "\n",
    "import matplotlib.pyplot as plt\n",
    "\n",
    "import seaborn as sns\n"
   ]
  },
  {
   "cell_type": "markdown",
   "metadata": {},
   "source": [
    "___"
   ]
  },
  {
   "cell_type": "markdown",
   "metadata": {},
   "source": [
    "### Load and view summary of the dataset "
   ]
  },
  {
   "cell_type": "code",
   "execution_count": 45,
   "metadata": {},
   "outputs": [],
   "source": [
    "# Load the Palmer Penguins dataset\n",
    "df = pd.read_csv(\"https://raw.githubusercontent.com/mwaskom/seaborn-data/master/penguins.csv\")"
   ]
  },
  {
   "cell_type": "code",
   "execution_count": 46,
   "metadata": {},
   "outputs": [
    {
     "data": {
      "text/html": [
       "<div>\n",
       "<style scoped>\n",
       "    .dataframe tbody tr th:only-of-type {\n",
       "        vertical-align: middle;\n",
       "    }\n",
       "\n",
       "    .dataframe tbody tr th {\n",
       "        vertical-align: top;\n",
       "    }\n",
       "\n",
       "    .dataframe thead th {\n",
       "        text-align: right;\n",
       "    }\n",
       "</style>\n",
       "<table border=\"1\" class=\"dataframe\">\n",
       "  <thead>\n",
       "    <tr style=\"text-align: right;\">\n",
       "      <th></th>\n",
       "      <th>species</th>\n",
       "      <th>island</th>\n",
       "      <th>bill_length_mm</th>\n",
       "      <th>bill_depth_mm</th>\n",
       "      <th>flipper_length_mm</th>\n",
       "      <th>body_mass_g</th>\n",
       "      <th>sex</th>\n",
       "    </tr>\n",
       "  </thead>\n",
       "  <tbody>\n",
       "    <tr>\n",
       "      <th>count</th>\n",
       "      <td>344</td>\n",
       "      <td>344</td>\n",
       "      <td>342.000000</td>\n",
       "      <td>342.000000</td>\n",
       "      <td>342.000000</td>\n",
       "      <td>342.000000</td>\n",
       "      <td>333</td>\n",
       "    </tr>\n",
       "    <tr>\n",
       "      <th>unique</th>\n",
       "      <td>3</td>\n",
       "      <td>3</td>\n",
       "      <td>NaN</td>\n",
       "      <td>NaN</td>\n",
       "      <td>NaN</td>\n",
       "      <td>NaN</td>\n",
       "      <td>2</td>\n",
       "    </tr>\n",
       "    <tr>\n",
       "      <th>top</th>\n",
       "      <td>Adelie</td>\n",
       "      <td>Biscoe</td>\n",
       "      <td>NaN</td>\n",
       "      <td>NaN</td>\n",
       "      <td>NaN</td>\n",
       "      <td>NaN</td>\n",
       "      <td>MALE</td>\n",
       "    </tr>\n",
       "    <tr>\n",
       "      <th>freq</th>\n",
       "      <td>152</td>\n",
       "      <td>168</td>\n",
       "      <td>NaN</td>\n",
       "      <td>NaN</td>\n",
       "      <td>NaN</td>\n",
       "      <td>NaN</td>\n",
       "      <td>168</td>\n",
       "    </tr>\n",
       "    <tr>\n",
       "      <th>mean</th>\n",
       "      <td>NaN</td>\n",
       "      <td>NaN</td>\n",
       "      <td>43.921930</td>\n",
       "      <td>17.151170</td>\n",
       "      <td>200.915205</td>\n",
       "      <td>4201.754386</td>\n",
       "      <td>NaN</td>\n",
       "    </tr>\n",
       "    <tr>\n",
       "      <th>std</th>\n",
       "      <td>NaN</td>\n",
       "      <td>NaN</td>\n",
       "      <td>5.459584</td>\n",
       "      <td>1.974793</td>\n",
       "      <td>14.061714</td>\n",
       "      <td>801.954536</td>\n",
       "      <td>NaN</td>\n",
       "    </tr>\n",
       "    <tr>\n",
       "      <th>min</th>\n",
       "      <td>NaN</td>\n",
       "      <td>NaN</td>\n",
       "      <td>32.100000</td>\n",
       "      <td>13.100000</td>\n",
       "      <td>172.000000</td>\n",
       "      <td>2700.000000</td>\n",
       "      <td>NaN</td>\n",
       "    </tr>\n",
       "    <tr>\n",
       "      <th>25%</th>\n",
       "      <td>NaN</td>\n",
       "      <td>NaN</td>\n",
       "      <td>39.225000</td>\n",
       "      <td>15.600000</td>\n",
       "      <td>190.000000</td>\n",
       "      <td>3550.000000</td>\n",
       "      <td>NaN</td>\n",
       "    </tr>\n",
       "    <tr>\n",
       "      <th>50%</th>\n",
       "      <td>NaN</td>\n",
       "      <td>NaN</td>\n",
       "      <td>44.450000</td>\n",
       "      <td>17.300000</td>\n",
       "      <td>197.000000</td>\n",
       "      <td>4050.000000</td>\n",
       "      <td>NaN</td>\n",
       "    </tr>\n",
       "    <tr>\n",
       "      <th>75%</th>\n",
       "      <td>NaN</td>\n",
       "      <td>NaN</td>\n",
       "      <td>48.500000</td>\n",
       "      <td>18.700000</td>\n",
       "      <td>213.000000</td>\n",
       "      <td>4750.000000</td>\n",
       "      <td>NaN</td>\n",
       "    </tr>\n",
       "    <tr>\n",
       "      <th>max</th>\n",
       "      <td>NaN</td>\n",
       "      <td>NaN</td>\n",
       "      <td>59.600000</td>\n",
       "      <td>21.500000</td>\n",
       "      <td>231.000000</td>\n",
       "      <td>6300.000000</td>\n",
       "      <td>NaN</td>\n",
       "    </tr>\n",
       "  </tbody>\n",
       "</table>\n",
       "</div>"
      ],
      "text/plain": [
       "       species  island  bill_length_mm  bill_depth_mm  flipper_length_mm  \\\n",
       "count      344     344      342.000000     342.000000         342.000000   \n",
       "unique       3       3             NaN            NaN                NaN   \n",
       "top     Adelie  Biscoe             NaN            NaN                NaN   \n",
       "freq       152     168             NaN            NaN                NaN   \n",
       "mean       NaN     NaN       43.921930      17.151170         200.915205   \n",
       "std        NaN     NaN        5.459584       1.974793          14.061714   \n",
       "min        NaN     NaN       32.100000      13.100000         172.000000   \n",
       "25%        NaN     NaN       39.225000      15.600000         190.000000   \n",
       "50%        NaN     NaN       44.450000      17.300000         197.000000   \n",
       "75%        NaN     NaN       48.500000      18.700000         213.000000   \n",
       "max        NaN     NaN       59.600000      21.500000         231.000000   \n",
       "\n",
       "        body_mass_g   sex  \n",
       "count    342.000000   333  \n",
       "unique          NaN     2  \n",
       "top             NaN  MALE  \n",
       "freq            NaN   168  \n",
       "mean    4201.754386   NaN  \n",
       "std      801.954536   NaN  \n",
       "min     2700.000000   NaN  \n",
       "25%     3550.000000   NaN  \n",
       "50%     4050.000000   NaN  \n",
       "75%     4750.000000   NaN  \n",
       "max     6300.000000   NaN  "
      ]
     },
     "execution_count": 46,
     "metadata": {},
     "output_type": "execute_result"
    }
   ],
   "source": [
    "# Give summary of the dataset\n",
    "df.describe(include='all')"
   ]
  },
  {
   "cell_type": "markdown",
   "metadata": {},
   "source": [
    "The dataset is made up of several variables:<br/>\n",
    "- Island \n",
    "- Species \n",
    "- Bill length\n",
    "- Bill depth\n",
    "- Flipper length\n",
    "- Body mass\n",
    "- Sex.\n",
    "\n",
    "---"
   ]
  },
  {
   "cell_type": "markdown",
   "metadata": {},
   "source": [
    "### Overview of the Palmer Penguin dataset \n",
    "<br/>\n",
    "In the dataset summary each variable is accompanied by  several descriptions. <br/>\n",
    "\n",
    "\n",
    "- **count:** This indicates the number of non-empty values for each column.<br />\n",
    "The columns `species` and `island` have a count of 344, indicating that there are no missing values.<br />\n",
    "The columns `bill_length_mm`, `bill_depth_mm`, `flipper_length_mm`, and `body_mass_g` each have a count of 342, indicating two missing values per column. <br />\n",
    "The column `sex` has a count of 333, implying one missing value<br /><br />\n",
    "\n",
    "- **unique:** Only applies to non numeric fields and indicates the number of unique values in each column. <br />\n",
    "`species` and `island` both contain three unique values while `sex` has two unique values.\n",
    "<br /><br />\n",
    "\n",
    "- **top:** Only applies to non numeric fields and indicates the most frequent value in each column.<br />\n",
    "In this dataset, `Adelie` is the most common species, `Biscoe` is the most common island, and `MALE` is the most common sex.\n",
    "<br /><br />\n",
    "\n",
    "- **freq:** This indicates the frequency of the 'top' value.<br/>\n",
    " In this dataset, there were 152 observations of the `Adelie` species, 168 observations on the island of `Biscoe`, and 168 penguins were identified as `MALE` out of a total of 344\n",
    "<br /><br />\n",
    "\n",
    "- **mean:** Only applies to numeric columns and gives the average value for each. <br /><br />\n",
    "\n",
    "- **std** Only applies to numeric columns and gives the standard deviation for each.<br />\n",
    "It measures the variation from the mean for each column. <br/><br />\n",
    "\n",
    "- **min** Only applies to numeric columns and gives the minimum value for each <br/><br />\n",
    "\n",
    "- **25%** Only applies to numeric columns, representing the first quartile or 25th percentile of each column's values. <br />\n",
    "For example: <br/>\n",
    "in `bill_length_mm`, 25% of the values are below 39.225000 mm <br /><br />\n",
    "\n",
    "- **50%** Only applies to numeric columns , representing the median or 50% percentile of each column's values. <br />\n",
    "For example: <br/>\n",
    "17.300000 mm is the median value for `bill_depth_mm`, indicating that 50% of the values are less than 17.300000 mm..<br /><br />\n",
    "\n",
    "- **75%** Only applies to numeric columns, representing the third quartile or 75% percentile of each column's values. <br />\n",
    "For example: <br/>\n",
    "in `flipper_length_mm`, 75% of the values are below 213.000000 mm.<br /><br />\n",
    "\n",
    "- **max** Only applies to numeric columns and gives the maximum values for each <br/><br/>\n",
    "\n",
    "\n",
    "**Sources:**\n",
    "\n",
    "([w3schools - Statistics Percentiles](https://www.w3schools.com/datascience/ds_stat_percentiles.asp))<br />\n",
    "([w3resource - Pandas DataFrame: describe() function](https://www.w3resource.com/pandas/dataframe/dataframe-describe.php))<br />\n",
    "([w3schools - Pandas DataFrame describe() Method](https://www.w3schools.com/python/pandas/ref_df_describe.asp))<br />\n",
    "([wikipedia - Quartiles](https://en.wikipedia.org/wiki/Quartile))<br />\n",
    "([wikipedia - Standard Deviation](https://en.wikipedia.org/wiki/Standard_deviation))<br />\n",
    "\n",
    "\n",
    "\n"
   ]
  },
  {
   "cell_type": "markdown",
   "metadata": {},
   "source": [
    "---"
   ]
  },
  {
   "cell_type": "markdown",
   "metadata": {},
   "source": [
    "### Variable types in the Palmer Penguins Dataset"
   ]
  },
  {
   "cell_type": "code",
   "execution_count": 47,
   "metadata": {},
   "outputs": [
    {
     "name": "stdout",
     "output_type": "stream",
     "text": [
      "species               object\n",
      "island                object\n",
      "bill_length_mm       float64\n",
      "bill_depth_mm        float64\n",
      "flipper_length_mm    float64\n",
      "body_mass_g          float64\n",
      "sex                   object\n",
      "dtype: object\n"
     ]
    }
   ],
   "source": [
    "# Get python variable types\n",
    "variable_types = df.dtypes\n",
    "# Print variable types\n",
    "print(variable_types)"
   ]
  },
  {
   "cell_type": "markdown",
   "metadata": {},
   "source": [
    "**Sources:** <br/>\n",
    "([stackoverflow- How to detect subtypes in Pandas object column](https://stackoverflow.com/questions/51817742/how-could-i-detect-subtypes-in-pandas-object-columns))<br />"
   ]
  },
  {
   "cell_type": "code",
   "execution_count": 48,
   "metadata": {},
   "outputs": [
    {
     "name": "stdout",
     "output_type": "stream",
     "text": [
      "[<class 'str'>]\n"
     ]
    }
   ],
   "source": [
    "# Get Variable types of column 'species'\n",
    "\n",
    "object_column = df['species']\n",
    "#Get the variable type of each element in the column\n",
    "variable_types = object_column.apply(type)\n",
    "#Get the unique variable types\n",
    "unique_variable_types = variable_types.unique()\n",
    "\n",
    "print(unique_variable_types)"
   ]
  },
  {
   "cell_type": "code",
   "execution_count": 49,
   "metadata": {},
   "outputs": [
    {
     "name": "stdout",
     "output_type": "stream",
     "text": [
      "[<class 'str'>]\n"
     ]
    }
   ],
   "source": [
    "# Get Variable types of column 'island'\n",
    "\n",
    "\n",
    "object_column = df['island']\n",
    "#Get the variable type of each element in the column\n",
    "variable_types = object_column.apply(type)\n",
    "#Get the unique variable types\n",
    "unique_variable_types = variable_types.unique()\n",
    "\n",
    "print(unique_variable_types)"
   ]
  },
  {
   "cell_type": "code",
   "execution_count": 50,
   "metadata": {},
   "outputs": [
    {
     "name": "stdout",
     "output_type": "stream",
     "text": [
      "[<class 'str'> <class 'float'>]\n"
     ]
    }
   ],
   "source": [
    "# Get Variable types of column 'sex'\n",
    "\n",
    "\n",
    "object_column = df['sex']\n",
    "#Get the variable type of each element in the column\n",
    "variable_types = object_column.apply(type)\n",
    "#Get the unique variable types\n",
    "unique_variable_types = variable_types.unique()\n",
    "\n",
    "print(unique_variable_types)"
   ]
  },
  {
   "cell_type": "markdown",
   "metadata": {},
   "source": [
    "**Sources**: <br/>\n",
    "Note: The code to get the variable types of each object column was written with the assistance of chat GPT"
   ]
  },
  {
   "cell_type": "code",
   "execution_count": 51,
   "metadata": {},
   "outputs": [
    {
     "name": "stdout",
     "output_type": "stream",
     "text": [
      "['MALE' 'FEMALE' nan]\n"
     ]
    }
   ],
   "source": [
    "# Check unique values in the 'sex' column to understand why float is a variable type\n",
    "unique_sex_values = df['sex'].unique()\n",
    "# Print unique values\n",
    "print(unique_sex_values)\n"
   ]
  },
  {
   "cell_type": "markdown",
   "metadata": {},
   "source": [
    "The value 'nan' has been used to represent missing data. This is why 'float' is returning as a variable type."
   ]
  },
  {
   "cell_type": "markdown",
   "metadata": {},
   "source": [
    "**Source:**<br/>\n",
    "([geeksforgeeks.org - Get unique values from a column in a pandas df](https://www.geeksforgeeks.org/get-unique-values-from-a-column-in-pandas-dataframe/))<br />"
   ]
  },
  {
   "cell_type": "markdown",
   "metadata": {},
   "source": [
    "---"
   ]
  },
  {
   "cell_type": "markdown",
   "metadata": {},
   "source": [
    "### Variables types in the Palmer Penguins data set - Python Perspective\n",
    "In my exploration of the variable types in Python, I found:. <br /><br />\n",
    "\n",
    "**Float Variables**<br />\n",
    "Variables are comprised of floating point numbers.<br />\n",
    "- `bill_length_mm`\n",
    "- `bill_depth_mm `\n",
    "- `flipper_length_mm`\n",
    "- `body_mass_g `<br /><br />\n",
    "\n",
    "\n",
    "**String Variables**<br />\n",
    "Variables are comprised of a 'string' of characters.<br />\n",
    "- `species`\n",
    "- `island`\n",
    "<br /><br />\n",
    "\n",
    "**Mixed Variables**\n",
    "\n",
    "- `sex`<br /><br />\n",
    "\n",
    "I will treat the `sex` variable as a string for modeling, as the 'float' categorization arises from a singular missing value, which will be removed during data cleaning.<br /><br />\n",
    "\n",
    "**Sources**<br/>\n",
    "([w3schools- Floats in python](https://www.w3schools.com/go/go_float_data_type.php#:~:text=The%20float%20data%20types%20are,%2C%20%2D2.34%2C%20or%203597.34987.))<br />\n",
    " ([programiz.com- Strings in python](https://www.programiz.com/python-programming/string#google_vignette))<br />\n"
   ]
  },
  {
   "cell_type": "markdown",
   "metadata": {},
   "source": [
    "***"
   ]
  },
  {
   "cell_type": "markdown",
   "metadata": {},
   "source": [
    "### Variables types in the Palmer Penguins data set - Data Analytics Perspective\n",
    "\n",
    "From a data analysis perspective, the variables in the Palmer Penguins data set fall into two main types: Numerical (also known as Quantitative) and Categorical (also known as Qualitative).<br /><br />\n",
    "\n",
    "**Numerical Variables:**\n",
    "Represent amounts and can be Continuous or Discrete. In this dataset, all quantitative variables are Continuous, as they can assume a range of real values within a specified interval.These variables are:<br/>\n",
    "- `bill_length_mm`\n",
    "- `bill_depth_mm`\n",
    "- `flipper_length_mm`\n",
    "- `body_mass_g`\n",
    "\n",
    "**Categorical Variables**\n",
    "Represent groupings or categories and cannot be quantified. These variables are:<br/>\n",
    "- `Island`\n",
    "- `Species`\n",
    "- `Sex`<br/>\n",
    "\n",
    "Categorical variables can be further categorized into Ordinal, Nominal, or Binary types. `Island` and `Species` fall under Nominal variables, as they lack inherent ordering among their categories.`Sex `could be classified as either Binary or Nominal. While it has the criteria of a nominal variable, it also exhibits binary characteristics, with only two possible outcomes based on the dataset's information.\n",
    "\n",
    "\n",
    "**Sources**<br/>\n",
    "([codecademy- Variable types for data science](https://www.codecademy.com/learn/dsf-exploratory-data-analysis-python/modules/dsf-variable-types-for-data-science/cheatsheet))<br />\n",
    "([statcan- Types of variables ](https://www150.statcan.gc.ca/n1/edu/power-pouvoir/ch8/5214817-eng.htm))<br />\n",
    "([outlier- discrete vs continuous variables](https://articles.outlier.org/discrete-vs-continuous-variables#section-what-is-a-discrete-variable))<br />\n",
    "([PennState Eberly College of Science - binary categorical variables](https://online.stat.psu.edu/stat500/lesson/3/3.2/3.2.2#:~:text=A%20binary%20variable%20is%20a,of%20a%20binary%20categorical%20variable.))<br />\n"
   ]
  },
  {
   "cell_type": "markdown",
   "metadata": {},
   "source": [
    "---"
   ]
  },
  {
   "cell_type": "markdown",
   "metadata": {},
   "source": [
    "### Variable Types in Summary <br />\n",
    "Based on the analysis this table summarizes the variable types found in the dataset <br />\n",
    "\n",
    "\n",
    "\n",
    "| Variable | Python Variable type| Data Analytics Variable type |\n",
    "|:-------------|:--------------:|--------------:|\n",
    "| Species    |    String  |       Categorical ,Nominal|\n",
    "| Island     |    String   |       Categorical ,Nominal    |\n",
    "| bill_length_mm    |    Float  |       Numerical ,Continuous   |\n",
    "| bill_depth_mm      |     Float  |       Numerical ,Continuous   |\n",
    "| flipper_length_mm      |    Float  |       Numerical ,Continuous   |\n",
    "| body_mass_g     |       Float  |       Numerical ,Continuous  |\n",
    "| sex     |    String  |       Categorical,Binary  ,Nominal|"
   ]
  },
  {
   "cell_type": "markdown",
   "metadata": {},
   "source": [
    "***"
   ]
  },
  {
   "cell_type": "markdown",
   "metadata": {},
   "source": [
    "### 'Island' Variable visualised as a bar chart"
   ]
  },
  {
   "cell_type": "code",
   "execution_count": 52,
   "metadata": {},
   "outputs": [],
   "source": [
    "#Get the value counts for 'Island'\n",
    "island_count=df['island'].value_counts()"
   ]
  },
  {
   "cell_type": "code",
   "execution_count": 53,
   "metadata": {},
   "outputs": [
    {
     "data": {
      "text/plain": [
       "Text(0, 0.5, 'Count of Penguins')"
      ]
     },
     "execution_count": 53,
     "metadata": {},
     "output_type": "execute_result"
    },
    {
     "data": {
      "image/png": "[encoded data removed]",
      "text/plain": [
       "<Figure size 640x480 with 1 Axes>"
      ]
     },
     "metadata": {},
     "output_type": "display_data"
    }
   ],
   "source": [
    "#Plotting the bar chart for the amount of penguins on each island.\n",
    "plt.bar(island_count.index, island_count.values, color='blue')\n",
    "plt.title('Number of Penguins on Each Island')\n",
    "plt.xlabel('Island')\n",
    "plt.ylabel('Count of Penguins')"
   ]
  },
  {
   "cell_type": "markdown",
   "metadata": {},
   "source": [
    "The bar chart displays penguin counts per island. The majority were observed on Biscoe, with fewer than 60 on Torgersen."
   ]
  },
  {
   "cell_type": "markdown",
   "metadata": {},
   "source": [
    "---"
   ]
  },
  {
   "cell_type": "markdown",
   "metadata": {},
   "source": [
    "### 'Flipper' variable visualised as a histogram"
   ]
  },
  {
   "cell_type": "code",
   "execution_count": 54,
   "metadata": {},
   "outputs": [],
   "source": [
    "#Get the value counts for 'Flipper Length (mm)'\n",
    "island_count=df['flipper_length_mm'].value_counts()"
   ]
  },
  {
   "cell_type": "code",
   "execution_count": 55,
   "metadata": {},
   "outputs": [
    {
     "data": {
      "image/png": "[encoded data removed]",
      "text/plain": [
       "<Figure size 640x480 with 1 Axes>"
      ]
     },
     "metadata": {},
     "output_type": "display_data"
    }
   ],
   "source": [
    "# Plot a histogram for the distribution of Bill length.\n",
    "plt.hist(df['bill_length_mm'], bins=10, color='blue', edgecolor='black')\n",
    "plt.title('Distribution of Bill Length')\n",
    "plt.xlabel('Bill Length (mm)')\n",
    "plt.ylabel('Count of Penguins')\n",
    "plt.show()\n"
   ]
  },
  {
   "cell_type": "markdown",
   "metadata": {},
   "source": [
    "The histogram illustrates penguin bill length distribution. Most penguins fall within the 35mm to slightly over 50mm range, with a few outliers on both ends."
   ]
  },
  {
   "cell_type": "markdown",
   "metadata": {},
   "source": [
    "***"
   ]
  },
  {
   "cell_type": "markdown",
   "metadata": {},
   "source": [
    "### Correlation between two variables."
   ]
  },
  {
   "cell_type": "markdown",
   "metadata": {},
   "source": [
    "To begin the analysis of two variables in the Palmer Penguins dataset, I'll first explore the correlation between all numeric variables. Before calculating the correlation, I'll assess the data quality and identify any missing values.<br/>\n",
    "\n",
    "Let's start by identifying columns with missing data. This step is crucial as missing values can interfere with plotting linear regression lines, and it's best practice to thoroughly analyze the dataset for any missing values:"
   ]
  },
  {
   "cell_type": "code",
   "execution_count": 56,
   "metadata": {},
   "outputs": [
    {
     "name": "stdout",
     "output_type": "stream",
     "text": [
      "species               0\n",
      "island                0\n",
      "bill_length_mm        2\n",
      "bill_depth_mm         2\n",
      "flipper_length_mm     2\n",
      "body_mass_g           2\n",
      "sex                  11\n",
      "dtype: int64\n"
     ]
    }
   ],
   "source": [
    "# Check for missing values in the data frame\n",
    "missing_values = df.isna().sum()\n",
    "\n",
    "# Display the count of missing values for each column\n",
    "print(missing_values)"
   ]
  },
  {
   "cell_type": "markdown",
   "metadata": {},
   "source": [
    "**Source**: <br/>([cmdlinetips.com - Get number of missing values in each column](https://cmdlinetips.com/2020/11/how-to-get-number-of-missing-values-in-each-column-in-pandas/))"
   ]
  },
  {
   "cell_type": "markdown",
   "metadata": {},
   "source": [
    "As we can see, 5 of the columns are missing values. I will focus on the numeric fields for the purpose of correlation. `bill_length`, `bill_depth_mm`, `flipper_length_mm`, and `body_mass_g` each have two missing values.<br/>\n",
    "\n",
    "There are three options here:\n",
    "\n",
    "- I could replace the two missing values of each column by using mean or median imputation.\n",
    "- I could drop the missing values.\n",
    "- I could leave the null values in the dataset.\n",
    "<br/>\n",
    "Since the missing values represent less than 2% of all observations in each column, they will likely have little impact on the correlations using these variables.<br/>\n",
    "\n",
    "Below, the correlation matrix of the cleaned data frame compared to the original data frame shows this.<br/>\n",
    "\n",
    "**Source**<br/>\n",
    "([Eugenio \"Jay\" Zuccarelli- Imputation and dealing with missing data](https://towardsdatascience.com/the-dos-and-donts-of-imputation-d89d72a26a58))"
   ]
  },
  {
   "cell_type": "code",
   "execution_count": 57,
   "metadata": {},
   "outputs": [],
   "source": [
    "#Remove 'NaN' values from the data set \n",
    "\n",
    "df_cleaned = df.dropna()"
   ]
  },
  {
   "cell_type": "markdown",
   "metadata": {},
   "source": [
    "**Source**<br/>\n",
    "([ w3schools - dropna function](https://www.w3schools.com/python/pandas/ref_df_dropna.asp))"
   ]
  },
  {
   "cell_type": "markdown",
   "metadata": {},
   "source": [
    "### Cleaned data frame correlation matrix:"
   ]
  },
  {
   "cell_type": "code",
   "execution_count": 58,
   "metadata": {},
   "outputs": [
    {
     "data": {
      "text/html": [
       "<div>\n",
       "<style scoped>\n",
       "    .dataframe tbody tr th:only-of-type {\n",
       "        vertical-align: middle;\n",
       "    }\n",
       "\n",
       "    .dataframe tbody tr th {\n",
       "        vertical-align: top;\n",
       "    }\n",
       "\n",
       "    .dataframe thead th {\n",
       "        text-align: right;\n",
       "    }\n",
       "</style>\n",
       "<table border=\"1\" class=\"dataframe\">\n",
       "  <thead>\n",
       "    <tr style=\"text-align: right;\">\n",
       "      <th></th>\n",
       "      <th>bill_length_mm</th>\n",
       "      <th>bill_depth_mm</th>\n",
       "      <th>flipper_length_mm</th>\n",
       "      <th>body_mass_g</th>\n",
       "    </tr>\n",
       "  </thead>\n",
       "  <tbody>\n",
       "    <tr>\n",
       "      <th>bill_length_mm</th>\n",
       "      <td>1.000000</td>\n",
       "      <td>-0.228626</td>\n",
       "      <td>0.653096</td>\n",
       "      <td>0.589451</td>\n",
       "    </tr>\n",
       "    <tr>\n",
       "      <th>bill_depth_mm</th>\n",
       "      <td>-0.228626</td>\n",
       "      <td>1.000000</td>\n",
       "      <td>-0.577792</td>\n",
       "      <td>-0.472016</td>\n",
       "    </tr>\n",
       "    <tr>\n",
       "      <th>flipper_length_mm</th>\n",
       "      <td>0.653096</td>\n",
       "      <td>-0.577792</td>\n",
       "      <td>1.000000</td>\n",
       "      <td>0.872979</td>\n",
       "    </tr>\n",
       "    <tr>\n",
       "      <th>body_mass_g</th>\n",
       "      <td>0.589451</td>\n",
       "      <td>-0.472016</td>\n",
       "      <td>0.872979</td>\n",
       "      <td>1.000000</td>\n",
       "    </tr>\n",
       "  </tbody>\n",
       "</table>\n",
       "</div>"
      ],
      "text/plain": [
       "                   bill_length_mm  bill_depth_mm  flipper_length_mm  \\\n",
       "bill_length_mm           1.000000      -0.228626           0.653096   \n",
       "bill_depth_mm           -0.228626       1.000000          -0.577792   \n",
       "flipper_length_mm        0.653096      -0.577792           1.000000   \n",
       "body_mass_g              0.589451      -0.472016           0.872979   \n",
       "\n",
       "                   body_mass_g  \n",
       "bill_length_mm        0.589451  \n",
       "bill_depth_mm        -0.472016  \n",
       "flipper_length_mm     0.872979  \n",
       "body_mass_g           1.000000  "
      ]
     },
     "execution_count": 58,
     "metadata": {},
     "output_type": "execute_result"
    }
   ],
   "source": [
    "#Create a data frame from the cleaned data set of just the numeric columns.\n",
    "numeric_df_cleaned = df_cleaned.select_dtypes(include='number')\n",
    "\n",
    "# Calculate correlation matrix\n",
    "correlation_matrix_cleaned = numeric_df_cleaned.corr()\n",
    "\n",
    "#Show the correlation matrix\n",
    "(correlation_matrix_cleaned)"
   ]
  },
  {
   "cell_type": "markdown",
   "metadata": {},
   "source": [
    "###  Original data frame correlation matrix:"
   ]
  },
  {
   "cell_type": "code",
   "execution_count": 59,
   "metadata": {},
   "outputs": [
    {
     "data": {
      "text/html": [
       "<div>\n",
       "<style scoped>\n",
       "    .dataframe tbody tr th:only-of-type {\n",
       "        vertical-align: middle;\n",
       "    }\n",
       "\n",
       "    .dataframe tbody tr th {\n",
       "        vertical-align: top;\n",
       "    }\n",
       "\n",
       "    .dataframe thead th {\n",
       "        text-align: right;\n",
       "    }\n",
       "</style>\n",
       "<table border=\"1\" class=\"dataframe\">\n",
       "  <thead>\n",
       "    <tr style=\"text-align: right;\">\n",
       "      <th></th>\n",
       "      <th>bill_length_mm</th>\n",
       "      <th>bill_depth_mm</th>\n",
       "      <th>flipper_length_mm</th>\n",
       "      <th>body_mass_g</th>\n",
       "    </tr>\n",
       "  </thead>\n",
       "  <tbody>\n",
       "    <tr>\n",
       "      <th>bill_length_mm</th>\n",
       "      <td>1.000000</td>\n",
       "      <td>-0.235053</td>\n",
       "      <td>0.656181</td>\n",
       "      <td>0.595110</td>\n",
       "    </tr>\n",
       "    <tr>\n",
       "      <th>bill_depth_mm</th>\n",
       "      <td>-0.235053</td>\n",
       "      <td>1.000000</td>\n",
       "      <td>-0.583851</td>\n",
       "      <td>-0.471916</td>\n",
       "    </tr>\n",
       "    <tr>\n",
       "      <th>flipper_length_mm</th>\n",
       "      <td>0.656181</td>\n",
       "      <td>-0.583851</td>\n",
       "      <td>1.000000</td>\n",
       "      <td>0.871202</td>\n",
       "    </tr>\n",
       "    <tr>\n",
       "      <th>body_mass_g</th>\n",
       "      <td>0.595110</td>\n",
       "      <td>-0.471916</td>\n",
       "      <td>0.871202</td>\n",
       "      <td>1.000000</td>\n",
       "    </tr>\n",
       "  </tbody>\n",
       "</table>\n",
       "</div>"
      ],
      "text/plain": [
       "                   bill_length_mm  bill_depth_mm  flipper_length_mm  \\\n",
       "bill_length_mm           1.000000      -0.235053           0.656181   \n",
       "bill_depth_mm           -0.235053       1.000000          -0.583851   \n",
       "flipper_length_mm        0.656181      -0.583851           1.000000   \n",
       "body_mass_g              0.595110      -0.471916           0.871202   \n",
       "\n",
       "                   body_mass_g  \n",
       "bill_length_mm        0.595110  \n",
       "bill_depth_mm        -0.471916  \n",
       "flipper_length_mm     0.871202  \n",
       "body_mass_g           1.000000  "
      ]
     },
     "execution_count": 59,
     "metadata": {},
     "output_type": "execute_result"
    }
   ],
   "source": [
    "\n",
    "#Create a data frame from the cleaned data set of just the numeric columns.\n",
    "numeric_df = df.select_dtypes(include='number')\n",
    "\n",
    "# Calculate correlation matrix\n",
    "correlation_matrix = numeric_df.corr()\n",
    "\n",
    "#Show the correlation matrix\n",
    "(correlation_matrix)"
   ]
  },
  {
   "cell_type": "markdown",
   "metadata": {},
   "source": [
    "\n",
    "Removing the NaN values has not significantly affected the correlation calculations."
   ]
  },
  {
   "cell_type": "markdown",
   "metadata": {},
   "source": [
    "**Sources**<br/>\n",
    "([statology.org- Correlation in python](https://www.statology.org/correlation-in-python/))<br/>\n",
    "([geeksforgeeks- Correlation matrix in python](https://www.geeksforgeeks.org/how-to-create-a-correlation-matrix-using-pandas/))<br/>"
   ]
  },
  {
   "cell_type": "markdown",
   "metadata": {},
   "source": [
    "\n",
    "The matrix above reveals that `flipper_length_mm` and `body_mass_g` exhibit the highest correlation among variables. While `bill _depth_mm` and `flipper_length_mm` show the lowest correlation.<br/>\n",
    "\n",
    "Given the strong correlation between `flipper_length_mm` and `body_mass_g`, I will delve deeper into these variables. I'll visualize their correlation using a scatter plot."
   ]
  },
  {
   "cell_type": "code",
   "execution_count": 60,
   "metadata": {},
   "outputs": [
    {
     "data": {
      "image/png": "[encoded data removed]",
      "text/plain": [
       "<Figure size 800x600 with 1 Axes>"
      ]
     },
     "metadata": {},
     "output_type": "display_data"
    }
   ],
   "source": [
    "#Set the variables for the scatter plot\n",
    "x_variable = 'body_mass_g'\n",
    "y_variable = 'flipper_length_mm'\n",
    "\n",
    "# Create the scatter plot\n",
    "plt.figure(figsize=(8, 6))\n",
    "plt.scatter(df_cleaned[x_variable], df_cleaned[y_variable])\n",
    "plt.xlabel(x_variable)\n",
    "plt.ylabel(y_variable)\n",
    "\n",
    "#Get m (slope) and b(intercept) of the linear regression line\n",
    "m, b = np.polyfit(df_cleaned[x_variable], df_cleaned[y_variable], 1)\n",
    "\n",
    "#Add the linear regression line to the scatter plot\n",
    "plt.plot(df_cleaned[x_variable], m*df_cleaned[x_variable]+b,color='red')\n",
    "\n",
    "#Show graph\n",
    "plt.show()"
   ]
  },
  {
   "cell_type": "markdown",
   "metadata": {},
   "source": [
    "**Sources**<br/>\n",
    "([machinelearningplus- Python scatter plots ](https://www.machinelearningplus.com/plots/python--plot/))<br/>\n",
    "([statology.org- How to create a scatter plot with a regression line ](https://www.statology.org/scatterplot-with-regression-line-python/))<br/>"
   ]
  },
  {
   "cell_type": "markdown",
   "metadata": {},
   "source": [
    "With a correlation coefficient of 0.871202 between `flipper_length_mm`  and `body_mass_g`, indicating a strong positive relationship, we can observe a clear upward linear trend in the scatter plot. This trend suggests that as body mass increases, so does flipper length. This conclusion aligns with findings from other studies, such as those by [Alison Hill, Allison Horst, Kristen Gorman](https://allisonhorst.github.io/palmerpenguins/articles/examples.html), who used 'R' in their analysis.\n",
    "\n",
    "\n",
    "See others studies:<br/>\n",
    "([Jingyi Fang](https://allysonf.medium.com/exploratory-data-analysis-on-palmer-archipelago-antarctica-penguin-data-41ff3e6efeda))<br/>\n",
    "([Taylor via RPubs using R ](https://rpubs.com/TEHoule/PalmerPenguinPlayground))<br/>\n",
    "([Shah Nawaz via RPubs using R ](https://rpubs.com/shahworld/scatter))<br/>\n",
    "\n",
    "**Source**<br/>\n",
    "([Statistics By Jim- Correlations](https://statisticsbyjim.com/basics/correlations/#:~:text=Correlation%20Coefficient%20%3D%200.8%3A%20A%20fairly,change%20in%20a%20specific%20direction.))<br/><br/><br/>"
   ]
  },
  {
   "cell_type": "markdown",
   "metadata": {},
   "source": [
    "\n",
    "For a deeper investigation, I'll examine how the correlation between `flipper_length_mm` and `body_mass_g` varies across the three species of penguins."
   ]
  },
  {
   "cell_type": "code",
   "execution_count": 61,
   "metadata": {},
   "outputs": [
    {
     "data": {
      "image/png": "[encoded data removed]",
      "text/plain": [
       "<Figure size 640x480 with 1 Axes>"
      ]
     },
     "metadata": {},
     "output_type": "display_data"
    }
   ],
   "source": [
    "\n",
    "# Create the scatter plot and set variables\n",
    "sns.scatterplot(x='flipper_length_mm', y='body_mass_g', hue='species', data=df_cleaned)\n",
    "\n",
    "#Add a regression line to the scatter plot\n",
    "sns.regplot(x='flipper_length_mm', y='body_mass_g', data=df_cleaned, scatter=False)\n",
    "\n",
    "# Format the legend\n",
    "plt.legend(loc='upper left')\n",
    "\n",
    "# Manually adjust the layout\n",
    "plt.tight_layout()\n",
    "\n",
    "plt.show()"
   ]
  },
  {
   "cell_type": "markdown",
   "metadata": {},
   "source": [
    "\n",
    "**Sources**<br/>\n",
    "([ALEX LABUDA/Kaggle - Scatter plot by category ](https://www.kaggle.com/code/alabuda/classification-and-eda-palmer-penguins))<br/>\n",
    "([stackoverflow - regression lines in seabourn](https://stackoverflow.com/questions/66084983/how-to-plot-one-linear-regression-scatterplot-for-multiple-columns-in-a-datafram))\n",
    "\n",
    "\n"
   ]
  },
  {
   "cell_type": "markdown",
   "metadata": {},
   "source": [
    "From the scatter plot above, we observe:\n",
    "\n",
    "- Gentoo penguins are the largest in both `body_mass_g` and `flipper_length_mm`.\n",
    "- Adelie penguins have the shortest `flipper_length_mm` among the observed species.\n",
    "- Chinstrap penguins have the lowest `body_weight_g` among individuals, but overall, Adelie penguins appear to have the lowest `body_weight_g` among the observed species.\n",
    "- This observation aligns with the established weight ranges of each penguin species, with Chinstrap penguins being the lightest, followed by Adelie penguins, and then Gentoo penguins.\n",
    "\n",
    "**Source**<br/>\n",
    "([oceanwide-expeditions.com- The eight great penguin species of Antartica ](https://oceanwide-expeditions.com/blog/meet-all-6-antarctic-penguin-species))<br/>\n",
    "\n",
    "\n"
   ]
  },
  {
   "cell_type": "markdown",
   "metadata": {},
   "source": [
    "---"
   ]
  },
  {
   "cell_type": "markdown",
   "metadata": {},
   "source": [
    "# Conclusion:\n",
    "\n",
    "- A positive correlation exists between `flipper_length_mm` and `body_mass_g` in this dataset.\n",
    "- While positive correlation doesn't imply causation, it's logical that penguins with longer flippers tend to have heavier body masses, and vice versa.\n",
    "- Some outliers in the scatter plots deviate from the trend line. Possible explanations include:\n",
    "  - Fluctuations in weight due to factors like molting, mating, seasonality, and food availability, as observed in Chinstrap and Gentoo penguins ([Wikipedia](https://en.wikipedia.org/wiki/Chinstrap_penguin), [Wikipedia](https://en.wikipedia.org/wiki/Gentoo_penguin)).\n",
    "  - The age of the penguins is unknown; inclusion of juvenile penguins could lead to outliers in the flipper length to body mass ratio.\n",
    "  - Among the outliers, it's notable that fewer instances of the Gentoo species show a negative deviation from the regression line compared to the other two species. This could be attributed to their superior adaptability to environmental changes [Scientific American](https://www.scientificamerican.com/article/gentoo-penguins-thrive-while-adelies-and-chinstraps-falter-in-a-climate-changed-world/)\n",
    "\n",
    "\n"
   ]
  },
  {
   "cell_type": "markdown",
   "metadata": {},
   "source": [
    "## Opportunities for further analysis"
   ]
  },
  {
   "cell_type": "markdown",
   "metadata": {},
   "source": [
    "For further analysis I would propose delving deeper by looking further into the variables `flipper_length_mm` and `body_mass_g` examining their correlation in relation to `sex` and `island`. This analysis potentially show impacts of environmental factors, breeding cycles, and other variables on the correlation observed in this notebook."
   ]
  },
  {
   "cell_type": "markdown",
   "metadata": {},
   "source": [
    "---"
   ]
  },
  {
   "cell_type": "markdown",
   "metadata": {},
   "source": [
    "---\n"
   ]
  }
 ],
 "metadata": {
  "kernelspec": {
   "display_name": "base",
   "language": "python",
   "name": "python3"
  },
  "language_info": {
   "codemirror_mode": {
    "name": "ipython",
    "version": 3
   },
   "file_extension": ".py",
   "mimetype": "text/x-python",
   "name": "python",
   "nbconvert_exporter": "python",
   "pygments_lexer": "ipython3",
   "version": "3.11.5"
  }
 },
 "nbformat": 4,
 "nbformat_minor": 2
}
